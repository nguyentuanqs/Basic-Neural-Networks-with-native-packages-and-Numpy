{
  "nbformat": 4,
  "nbformat_minor": 0,
  "metadata": {
    "colab": {
      "name": "Small_fully_connectedLayer_Numpy.ipynb",
      "provenance": [],
      "collapsed_sections": [],
      "toc_visible": true,
      "authorship_tag": "ABX9TyOQr8wIL1casejt9fB7kmVP",
      "include_colab_link": true
    },
    "kernelspec": {
      "name": "python3",
      "display_name": "Python 3"
    },
    "language_info": {
      "name": "python"
    }
  },
  "cells": [
    {
      "cell_type": "markdown",
      "metadata": {
        "id": "view-in-github",
        "colab_type": "text"
      },
      "source": [
        "<a href=\"https://colab.research.google.com/github/nguyentuanqs/Basic-Neural-Networks-with-native-packages-and-Numpy/blob/master/Small_fully_connectedLayer_Numpy.ipynb\" target=\"_parent\"><img src=\"https://colab.research.google.com/assets/colab-badge.svg\" alt=\"Open In Colab\"/></a>"
      ]
    },
    {
      "cell_type": "code",
      "execution_count": null,
      "metadata": {
        "colab": {
          "base_uri": "https://localhost:8080/"
        },
        "id": "WvhU9MfQEXf8",
        "outputId": "12ac1a2c-a25c-420a-a0c8-c705973e5aed"
      },
      "outputs": [
        {
          "output_type": "stream",
          "name": "stdout",
          "text": [
            "Mounted at /content/drive\n"
          ]
        }
      ],
      "source": [
        "from google.colab import drive\n",
        "drive.mount('/content/drive')"
      ]
    },
    {
      "cell_type": "code",
      "source": [
        "import numpy as np \n",
        "import pandas as pd \n",
        "import matplotlib.pyplot as plt\n",
        "\n",
        "data = pd.read_csv('/content/drive/MyDrive/Colab Notebooks/MasterThesis/train.csv')\n",
        "\n",
        "data = np.array(data)\n"
      ],
      "metadata": {
        "id": "boG0zYuEir8v"
      },
      "execution_count": null,
      "outputs": []
    },
    {
      "cell_type": "code",
      "source": [
        "data = np.array(data)\n",
        "m, n = data.shape\n",
        "np.random.shuffle(data) # shuffle before splitting into dev and training sets\n",
        "\n",
        "data_dev = data[0:1000].T\n",
        "Y_dev = data_dev[0]\n",
        "X_dev = data_dev[1:n]\n",
        "X_dev = X_dev / 255.\n",
        "\n",
        "data_train = data[1000:m].T\n",
        "Y_train = data_train[0]\n",
        "X_train = data_train[1:n]\n",
        "X_train = X_train / 255.\n",
        "_,m_train = X_train.shape"
      ],
      "metadata": {
        "id": "tItZzWZmq-CI"
      },
      "execution_count": null,
      "outputs": []
    },
    {
      "cell_type": "code",
      "source": [
        "def init_params():\n",
        "    W1 = np.random.rand(10, 784) - 0.5\n",
        "    b1 = np.random.rand(10, 1) - 0.5\n",
        "    W2 = np.random.rand(10, 10) - 0.5\n",
        "    b2 = np.random.rand(10, 1) - 0.5\n",
        "    return W1, b1, W2, b2\n",
        "\n",
        "def ReLU(Z):\n",
        "    return np.maximum(Z, 0)\n",
        "\n",
        "def softmax(Z):\n",
        "    A = np.exp(Z) / sum(np.exp(Z))\n",
        "    return A\n",
        "    \n",
        "def forward_prop(W1, b1, W2, b2, X):\n",
        "    Z1 = W1.dot(X) + b1\n",
        "    A1 = ReLU(Z1)\n",
        "    Z2 = W2.dot(A1) + b2\n",
        "    A2 = softmax(Z2)\n",
        "    return Z1, A1, Z2, A2\n",
        "\n",
        "def ReLU_deriv(Z):\n",
        "    return Z > 0\n",
        "\n",
        "def one_hot(Y):\n",
        "    one_hot_Y = np.zeros((Y.size, Y.max() + 1))\n",
        "    one_hot_Y[np.arange(Y.size), Y] = 1\n",
        "    one_hot_Y = one_hot_Y.T\n",
        "    return one_hot_Y\n",
        "def backward_prop(Z1, A1, Z2, A2, W1, W2, X, Y):\n",
        "    one_hot_Y = one_hot(Y)\n",
        "    dZ2 = A2 - one_hot_Y\n",
        "    dW2 = 1 / m * dZ2.dot(A1.T)\n",
        "    db2 = 1 / m * np.sum(dZ2)\n",
        "    dZ1 = W2.T.dot(dZ2) * ReLU_deriv(Z1)\n",
        "    dW1 = 1 / m * dZ1.dot(X.T)\n",
        "    db1 = 1 / m * np.sum(dZ1)\n",
        "    return dW1, db1, dW2, db2\n",
        "\n",
        "def update_params(W1, b1, W2, b2, dW1, db1, dW2, db2, alpha):\n",
        "    W1 = W1 - alpha * dW1\n",
        "    b1 = b1 - alpha * db1    \n",
        "    W2 = W2 - alpha * dW2  \n",
        "    b2 = b2 - alpha * db2    \n",
        "    return W1, b1, W2, b2"
      ],
      "metadata": {
        "id": "oCl0PqKMrC63"
      },
      "execution_count": null,
      "outputs": []
    },
    {
      "cell_type": "code",
      "source": [
        "def get_predictions(A2):\n",
        "    return np.argmax(A2, 0)\n",
        "\n",
        "def get_accuracy(predictions, Y):\n",
        "    print(predictions, Y)\n",
        "    return np.sum(predictions == Y) / Y.size\n",
        "\n",
        "def gradient_descent(X, Y, alpha, iterations):\n",
        "    W1, b1, W2, b2 = init_params()\n",
        "    for i in range(iterations):\n",
        "        Z1, A1, Z2, A2 = forward_prop(W1, b1, W2, b2, X)\n",
        "        dW1, db1, dW2, db2 = backward_prop(Z1, A1, Z2, A2, W1, W2, X, Y)\n",
        "        W1, b1, W2, b2 = update_params(W1, b1, W2, b2, dW1, db1, dW2, db2, alpha)\n",
        "        if i % 10 == 0:\n",
        "            print(\"Iteration: \", i)\n",
        "            predictions = get_predictions(A2)\n",
        "            print(get_accuracy(predictions, Y))\n",
        "    return W1, b1, W2, b2"
      ],
      "metadata": {
        "id": "gEkfsBvmrMWg"
      },
      "execution_count": null,
      "outputs": []
    },
    {
      "cell_type": "code",
      "source": [
        "W1, b1, W2, b2 = gradient_descent(X_train, Y_train, 0.10, 500)"
      ],
      "metadata": {
        "colab": {
          "base_uri": "https://localhost:8080/"
        },
        "id": "2sNnLrNuru2X",
        "outputId": "a22349e2-c7e8-40d9-c234-df7423da0d7e"
      },
      "execution_count": null,
      "outputs": [
        {
          "output_type": "stream",
          "name": "stdout",
          "text": [
            "Iteration:  0\n",
            "[2 7 6 ... 9 9 6] [2 9 1 ... 9 8 7]\n",
            "0.0877560975609756\n",
            "Iteration:  10\n",
            "[0 7 6 ... 4 7 6] [2 9 1 ... 9 8 7]\n",
            "0.12714634146341464\n",
            "Iteration:  20\n",
            "[0 7 6 ... 4 7 7] [2 9 1 ... 9 8 7]\n",
            "0.18195121951219512\n",
            "Iteration:  30\n",
            "[0 6 6 ... 4 9 7] [2 9 1 ... 9 8 7]\n",
            "0.21580487804878049\n",
            "Iteration:  40\n",
            "[0 7 6 ... 4 9 7] [2 9 1 ... 9 8 7]\n",
            "0.24053658536585365\n",
            "Iteration:  50\n",
            "[0 9 6 ... 4 9 7] [2 9 1 ... 9 8 7]\n",
            "0.2631951219512195\n",
            "Iteration:  60\n",
            "[0 9 6 ... 4 9 7] [2 9 1 ... 9 8 7]\n",
            "0.28043902439024393\n",
            "Iteration:  70\n",
            "[0 9 6 ... 4 9 7] [2 9 1 ... 9 8 7]\n",
            "0.2950731707317073\n",
            "Iteration:  80\n",
            "[0 9 6 ... 4 9 7] [2 9 1 ... 9 8 7]\n",
            "0.3064878048780488\n",
            "Iteration:  90\n",
            "[0 9 6 ... 4 9 7] [2 9 1 ... 9 8 7]\n",
            "0.3191219512195122\n",
            "Iteration:  100\n",
            "[0 9 6 ... 4 9 7] [2 9 1 ... 9 8 7]\n",
            "0.3485121951219512\n",
            "Iteration:  110\n",
            "[0 9 1 ... 4 9 7] [2 9 1 ... 9 8 7]\n",
            "0.41636585365853657\n",
            "Iteration:  120\n",
            "[0 9 1 ... 4 9 7] [2 9 1 ... 9 8 7]\n",
            "0.45239024390243904\n",
            "Iteration:  130\n",
            "[0 9 1 ... 4 9 7] [2 9 1 ... 9 8 7]\n",
            "0.4782682926829268\n",
            "Iteration:  140\n",
            "[0 9 1 ... 7 9 7] [2 9 1 ... 9 8 7]\n",
            "0.49817073170731707\n",
            "Iteration:  150\n",
            "[3 9 1 ... 7 4 7] [2 9 1 ... 9 8 7]\n",
            "0.5179024390243903\n",
            "Iteration:  160\n",
            "[3 9 1 ... 7 4 7] [2 9 1 ... 9 8 7]\n",
            "0.5339512195121952\n",
            "Iteration:  170\n",
            "[3 9 1 ... 7 4 7] [2 9 1 ... 9 8 7]\n",
            "0.5507804878048781\n",
            "Iteration:  180\n",
            "[3 9 1 ... 7 4 7] [2 9 1 ... 9 8 7]\n",
            "0.565780487804878\n",
            "Iteration:  190\n",
            "[3 9 1 ... 7 4 7] [2 9 1 ... 9 8 7]\n",
            "0.580390243902439\n",
            "Iteration:  200\n",
            "[3 9 1 ... 7 4 7] [2 9 1 ... 9 8 7]\n",
            "0.5952926829268292\n",
            "Iteration:  210\n",
            "[3 9 1 ... 7 4 7] [2 9 1 ... 9 8 7]\n",
            "0.6101463414634146\n",
            "Iteration:  220\n",
            "[3 9 1 ... 7 4 7] [2 9 1 ... 9 8 7]\n",
            "0.6237073170731707\n",
            "Iteration:  230\n",
            "[3 9 1 ... 7 4 7] [2 9 1 ... 9 8 7]\n",
            "0.6365609756097561\n",
            "Iteration:  240\n",
            "[3 9 1 ... 7 4 7] [2 9 1 ... 9 8 7]\n",
            "0.6499268292682927\n",
            "Iteration:  250\n",
            "[3 4 1 ... 7 4 7] [2 9 1 ... 9 8 7]\n",
            "0.6627560975609756\n",
            "Iteration:  260\n",
            "[3 4 1 ... 7 4 7] [2 9 1 ... 9 8 7]\n",
            "0.6733414634146342\n",
            "Iteration:  270\n",
            "[3 4 1 ... 7 4 7] [2 9 1 ... 9 8 7]\n",
            "0.684\n",
            "Iteration:  280\n",
            "[3 4 1 ... 7 4 7] [2 9 1 ... 9 8 7]\n",
            "0.6937073170731707\n",
            "Iteration:  290\n",
            "[3 4 1 ... 7 4 7] [2 9 1 ... 9 8 7]\n",
            "0.7040975609756097\n",
            "Iteration:  300\n",
            "[3 9 1 ... 7 4 7] [2 9 1 ... 9 8 7]\n",
            "0.7129756097560975\n",
            "Iteration:  310\n",
            "[3 9 1 ... 7 4 7] [2 9 1 ... 9 8 7]\n",
            "0.7213414634146341\n",
            "Iteration:  320\n",
            "[3 9 1 ... 7 4 7] [2 9 1 ... 9 8 7]\n",
            "0.7279512195121951\n",
            "Iteration:  330\n",
            "[3 9 1 ... 7 4 7] [2 9 1 ... 9 8 7]\n",
            "0.7354634146341463\n",
            "Iteration:  340\n",
            "[3 9 1 ... 7 4 7] [2 9 1 ... 9 8 7]\n",
            "0.7418292682926829\n",
            "Iteration:  350\n",
            "[3 9 1 ... 7 4 7] [2 9 1 ... 9 8 7]\n",
            "0.7480243902439024\n",
            "Iteration:  360\n",
            "[3 9 1 ... 7 4 7] [2 9 1 ... 9 8 7]\n",
            "0.7542682926829268\n",
            "Iteration:  370\n",
            "[3 9 1 ... 7 4 7] [2 9 1 ... 9 8 7]\n",
            "0.76\n",
            "Iteration:  380\n",
            "[3 9 1 ... 7 4 7] [2 9 1 ... 9 8 7]\n",
            "0.7653658536585366\n",
            "Iteration:  390\n",
            "[3 9 1 ... 7 4 7] [2 9 1 ... 9 8 7]\n",
            "0.7705365853658537\n",
            "Iteration:  400\n",
            "[3 9 1 ... 7 4 7] [2 9 1 ... 9 8 7]\n",
            "0.775829268292683\n",
            "Iteration:  410\n",
            "[3 9 1 ... 7 4 7] [2 9 1 ... 9 8 7]\n",
            "0.7807317073170732\n",
            "Iteration:  420\n",
            "[3 9 1 ... 7 4 7] [2 9 1 ... 9 8 7]\n",
            "0.7852926829268293\n",
            "Iteration:  430\n",
            "[3 9 1 ... 7 4 7] [2 9 1 ... 9 8 7]\n",
            "0.7896829268292683\n",
            "Iteration:  440\n",
            "[3 9 1 ... 7 4 7] [2 9 1 ... 9 8 7]\n",
            "0.7933170731707317\n",
            "Iteration:  450\n",
            "[3 9 1 ... 9 4 7] [2 9 1 ... 9 8 7]\n",
            "0.7970487804878049\n",
            "Iteration:  460\n",
            "[3 9 1 ... 9 9 7] [2 9 1 ... 9 8 7]\n",
            "0.8015365853658537\n",
            "Iteration:  470\n",
            "[3 9 1 ... 9 9 7] [2 9 1 ... 9 8 7]\n",
            "0.8047804878048781\n",
            "Iteration:  480\n",
            "[3 9 1 ... 9 9 7] [2 9 1 ... 9 8 7]\n",
            "0.8069268292682927\n",
            "Iteration:  490\n",
            "[3 9 1 ... 9 9 7] [2 9 1 ... 9 8 7]\n",
            "0.8098048780487805\n"
          ]
        }
      ]
    },
    {
      "cell_type": "code",
      "source": [
        "def make_predictions(X, W1, b1, W2, b2):\n",
        "    _, _, _, A2 = forward_prop(W1, b1, W2, b2, X)\n",
        "    predictions = get_predictions(A2)\n",
        "    return predictions\n",
        "\n",
        "def test_prediction(index, W1, b1, W2, b2):\n",
        "    current_image = X_train[:, index, None]\n",
        "    prediction = make_predictions(X_train[:, index, None], W1, b1, W2, b2)\n",
        "    label = Y_train[index]\n",
        "    print(\"Prediction: \", prediction)\n",
        "    print(\"Label: \", label)\n",
        "    \n",
        "    current_image = current_image.reshape((28, 28)) * 255\n",
        "    plt.gray()\n",
        "    plt.imshow(current_image, interpolation='nearest')\n",
        "    plt.show()"
      ],
      "metadata": {
        "id": "_fDhsXAUrNIo"
      },
      "execution_count": null,
      "outputs": []
    },
    {
      "cell_type": "code",
      "source": [
        "test_prediction(5, W1, b1, W2, b2)\n",
        "test_prediction(6, W1, b1, W2, b2)\n",
        "test_prediction(2, W1, b1, W2, b2)\n",
        "test_prediction(3, W1, b1, W2, b2)"
      ],
      "metadata": {
        "colab": {
          "base_uri": "https://localhost:8080/",
          "height": 1000
        },
        "id": "w4S6wpOorPUa",
        "outputId": "5f1ad391-aac6-4090-d78c-42d21a9225ec"
      },
      "execution_count": null,
      "outputs": [
        {
          "output_type": "stream",
          "name": "stdout",
          "text": [
            "Prediction:  [5]\n",
            "Label:  3\n"
          ]
        },
        {
          "output_type": "display_data",
          "data": {
            "image/png": "[encoded data removed]",
            "text/plain": [
              "<Figure size 432x288 with 1 Axes>"
            ]
          },
          "metadata": {
            "needs_background": "light"
          }
        },
        {
          "output_type": "stream",
          "name": "stdout",
          "text": [
            "Prediction:  [4]\n",
            "Label:  4\n"
          ]
        },
        {
          "output_type": "display_data",
          "data": {
            "image/png": "[encoded data removed]",
            "text/plain": [
              "<Figure size 432x288 with 1 Axes>"
            ]
          },
          "metadata": {
            "needs_background": "light"
          }
        },
        {
          "output_type": "stream",
          "name": "stdout",
          "text": [
            "Prediction:  [1]\n",
            "Label:  1\n"
          ]
        },
        {
          "output_type": "display_data",
          "data": {
            "image/png": "[encoded data removed]",
            "text/plain": [
              "<Figure size 432x288 with 1 Axes>"
            ]
          },
          "metadata": {
            "needs_background": "light"
          }
        },
        {
          "output_type": "stream",
          "name": "stdout",
          "text": [
            "Prediction:  [8]\n",
            "Label:  2\n"
          ]
        },
        {
          "output_type": "display_data",
          "data": {
            "image/png": "[encoded data removed]",
            "text/plain": [
              "<Figure size 432x288 with 1 Axes>"
            ]
          },
          "metadata": {
            "needs_background": "light"
          }
        }
      ]
    },
    {
      "cell_type": "code",
      "source": [
        "dev_predictions = make_predictions(X_dev, W1, b1, W2, b2)\n",
        "get_accuracy(dev_predictions, Y_dev)"
      ],
      "metadata": {
        "colab": {
          "base_uri": "https://localhost:8080/"
        },
        "id": "58CDVN53rRog",
        "outputId": "147a921c-3c19-4d91-f41a-93eb08ab9cdb"
      },
      "execution_count": null,
      "outputs": [
        {
          "output_type": "stream",
          "name": "stdout",
          "text": [
            "[4 8 5 1 1 1 3 1 2 1 8 4 7 1 4 3 8 0 7 0 4 6 1 8 0 1 0 2 6 0 2 7 3 8 3 2 1\n",
            " 7 0 1 6 1 7 4 5 2 8 1 8 8 0 9 2 0 6 8 0 1 8 9 0 7 3 7 0 2 0 7 6 3 6 7 1 6\n",
            " 7 3 3 3 5 5 6 4 5 7 7 9 6 1 5 2 5 3 3 5 9 5 6 4 2 6 2 2 1 1 3 6 8 3 1 8 6\n",
            " 1 1 9 7 1 1 3 9 9 4 8 2 9 1 5 2 3 6 6 0 7 4 0 2 7 1 4 8 1 5 3 4 9 7 8 0 3\n",
            " 2 6 3 1 5 2 4 7 2 6 0 9 5 1 3 0 3 3 8 9 2 0 1 4 9 1 4 0 6 3 3 3 8 3 0 4 0\n",
            " 9 6 6 1 4 2 3 7 2 3 9 9 8 7 5 6 7 2 5 4 2 7 0 8 6 5 4 9 2 3 7 3 2 6 7 9 3\n",
            " 1 3 3 3 3 3 9 2 0 9 6 1 2 7 0 5 3 0 8 3 2 6 8 4 3 7 8 2 2 4 1 1 5 8 8 1 6\n",
            " 7 7 7 3 1 2 1 9 7 8 3 8 2 9 1 8 1 6 5 0 4 3 7 5 1 6 9 0 0 4 4 5 4 6 7 6 3\n",
            " 9 2 3 3 2 6 1 9 1 4 0 7 2 9 7 9 2 6 3 4 9 8 6 4 9 8 0 1 6 5 9 6 8 5 3 3 2\n",
            " 3 2 2 2 3 1 6 7 4 6 6 8 3 4 8 2 6 2 5 3 1 9 0 2 5 8 4 8 2 1 4 4 3 9 2 0 8\n",
            " 0 5 3 3 6 8 9 9 2 9 0 6 7 6 2 7 6 6 6 2 9 2 1 4 7 1 2 7 1 6 6 6 5 9 4 4 3\n",
            " 4 0 1 5 0 0 8 0 5 8 2 8 5 0 3 2 9 4 2 0 8 5 1 0 3 8 1 8 0 8 6 4 0 3 8 1 8\n",
            " 6 5 2 4 8 6 5 1 5 4 0 0 3 6 4 1 8 6 6 5 2 4 9 9 8 8 1 1 0 2 9 5 1 1 7 7 3\n",
            " 8 1 3 5 1 3 7 3 7 6 2 0 4 1 6 0 0 7 4 2 8 6 6 8 4 9 2 8 7 0 1 4 4 0 7 1 1\n",
            " 9 1 9 1 0 7 3 4 6 9 7 3 1 5 3 1 9 7 8 0 0 7 4 6 8 6 7 3 1 8 2 6 0 4 8 6 7\n",
            " 0 9 9 5 0 9 8 9 1 0 8 9 3 3 0 3 3 8 7 7 1 1 3 9 3 7 0 7 4 1 2 9 3 7 4 3 3\n",
            " 7 7 1 9 3 1 9 8 2 0 0 1 9 7 8 3 5 2 8 5 9 9 6 7 9 9 4 7 9 6 5 9 0 4 1 7 9\n",
            " 7 6 5 9 7 7 4 0 6 4 9 3 6 8 3 0 1 7 5 1 8 3 2 5 3 8 7 4 2 0 5 7 6 1 3 7 1\n",
            " 8 7 2 4 1 1 6 6 6 7 7 3 4 2 1 3 3 7 9 9 5 3 7 2 8 3 0 8 1 2 8 1 2 2 9 3 4\n",
            " 0 2 6 7 0 0 9 5 5 0 4 3 2 3 3 4 1 1 4 6 1 1 7 0 4 4 4 5 9 6 3 8 3 1 6 2 8\n",
            " 5 2 2 7 6 8 0 8 8 1 7 5 8 4 9 3 7 9 3 7 7 3 1 8 7 9 1 6 2 3 1 1 6 6 0 6 6\n",
            " 9 7 3 7 2 7 5 4 1 1 5 6 9 0 9 5 9 2 8 0 2 1 1 8 3 1 1 5 4 7 3 9 7 8 3 4 3\n",
            " 2 4 4 7 3 3 1 6 7 0 2 8 4 7 9 5 0 8 5 8 7 3 5 9 1 5 5 4 8 1 0 3 7 5 4 7 3\n",
            " 8 3 6 7 4 9 3 7 1 3 1 8 0 7 4 7 2 9 8 2 6 0 0 6 7 2 1 5 4 6 9 0 5 1 8 6 2\n",
            " 7 2 3 9 0 7 6 1 9 1 8 2 1 2 8 6 2 9 9 4 1 0 4 3 6 1 3 6 4 6 7 0 3 7 1 2 4\n",
            " 9 4 0 6 9 5 6 4 1 0 3 4 0 0 7 7 9 0 7 6 3 2 3 3 3 4 8 5 5 7 5 1 3 5 2 0 7\n",
            " 7 5 6 3 4 2 2 7 1 1 0 1 6 6 2 7 4 7 8 0 9 1 7 9 0 5 6 7 4 3 1 3 1 4 7 4 0\n",
            " 8] [4 8 5 1 1 1 2 1 2 1 3 4 7 8 5 3 8 0 7 8 4 6 1 7 0 1 0 2 9 0 8 7 3 8 3 2 1\n",
            " 7 6 1 8 1 7 4 5 5 8 1 8 8 0 4 9 0 6 8 0 1 8 9 0 7 8 7 0 2 0 7 6 3 6 7 8 6\n",
            " 7 8 0 3 5 5 6 4 6 7 7 9 6 1 5 2 5 3 3 5 9 5 6 4 2 6 2 2 1 1 3 6 8 3 1 8 6\n",
            " 1 1 9 7 1 1 5 9 8 4 8 2 9 1 5 2 3 5 1 0 7 4 0 2 9 1 4 3 1 5 3 4 9 7 8 0 3\n",
            " 2 6 3 1 5 2 4 7 2 6 0 4 8 1 3 0 3 3 8 9 6 0 1 4 9 1 4 0 6 3 9 5 8 3 2 7 0\n",
            " 9 6 2 2 4 2 2 7 9 8 9 9 8 7 5 6 7 2 5 4 8 7 0 2 6 5 4 9 3 3 7 3 2 6 7 7 3\n",
            " 1 3 3 3 3 3 9 2 5 7 6 1 5 7 0 5 3 0 2 3 2 6 8 4 3 7 8 2 2 4 1 7 5 8 8 2 6\n",
            " 7 7 7 3 1 3 1 4 7 7 8 8 2 9 1 8 8 6 5 0 4 5 7 5 1 5 9 0 0 4 4 5 4 6 9 6 9\n",
            " 9 6 5 3 2 6 1 3 1 4 0 7 2 4 7 4 2 6 3 4 9 8 6 4 9 8 0 1 6 5 4 6 7 3 8 3 2\n",
            " 2 2 4 6 3 1 2 7 4 6 6 8 3 4 8 2 6 2 5 3 1 9 0 2 5 7 4 2 2 7 4 4 3 9 3 0 8\n",
            " 0 5 0 2 1 8 4 9 2 9 0 6 9 6 2 7 6 6 6 2 9 2 1 4 7 1 2 7 1 6 6 6 5 9 4 4 5\n",
            " 4 0 1 5 0 2 8 0 5 8 2 8 9 0 3 2 4 9 2 3 8 6 1 0 8 8 1 6 0 8 6 2 0 3 8 1 8\n",
            " 6 3 5 4 8 6 5 1 5 4 0 0 3 6 4 2 8 2 4 5 2 4 9 9 8 8 1 1 0 2 9 5 1 1 9 7 3\n",
            " 8 1 3 5 1 2 7 3 7 6 2 0 4 1 6 0 0 7 4 2 8 6 0 4 4 9 2 8 7 8 1 4 4 0 9 1 1\n",
            " 9 1 9 1 0 2 2 9 6 9 7 3 1 5 3 1 9 7 8 0 0 7 4 6 8 2 7 3 1 9 2 6 0 2 8 6 7\n",
            " 0 9 9 5 0 5 5 4 9 0 8 9 3 3 0 9 3 2 7 7 1 1 9 9 3 7 0 2 5 1 2 9 3 7 4 3 3\n",
            " 7 9 1 9 3 5 9 8 2 0 0 1 9 7 8 3 0 6 8 5 9 9 6 7 4 9 4 7 9 6 5 9 0 9 2 7 7\n",
            " 7 6 8 9 7 7 4 0 6 2 9 3 2 8 3 0 1 7 5 2 8 5 9 6 3 8 7 4 2 0 5 7 5 1 3 7 1\n",
            " 8 7 2 4 1 1 6 6 6 7 7 3 4 2 1 3 3 7 9 9 0 9 7 2 7 3 0 8 1 2 8 1 2 9 9 5 4\n",
            " 5 2 6 7 0 0 4 5 5 0 4 3 2 3 3 9 1 1 4 6 1 1 7 0 4 4 4 7 4 6 8 8 3 1 5 2 8\n",
            " 5 2 8 7 6 8 0 8 8 2 7 5 8 4 9 3 7 9 3 3 7 3 1 1 7 9 1 6 3 3 1 1 6 6 0 5 6\n",
            " 9 7 3 7 3 7 0 4 1 1 7 2 8 0 9 5 4 2 8 0 2 8 1 8 3 1 1 0 4 7 9 9 7 8 2 8 3\n",
            " 2 4 9 7 3 3 1 6 7 0 2 8 4 7 9 5 0 8 2 5 7 3 5 9 1 5 5 4 8 1 0 3 7 5 4 7 3\n",
            " 5 3 6 7 4 9 3 9 1 3 1 8 3 7 9 7 3 9 9 2 6 0 0 6 7 2 1 5 4 6 4 0 7 1 8 6 2\n",
            " 7 2 2 9 0 7 6 1 9 1 8 3 1 2 8 5 2 3 9 4 1 0 4 3 6 2 3 2 4 6 7 0 3 7 1 2 4\n",
            " 0 4 0 6 9 5 6 4 1 0 0 9 0 0 7 7 9 0 7 6 3 2 3 3 3 9 8 3 5 7 8 1 3 5 2 0 7\n",
            " 7 5 6 3 6 2 2 7 1 8 0 1 6 6 2 7 5 7 9 0 4 1 7 9 0 5 6 7 4 3 1 3 1 6 7 4 0\n",
            " 8]\n"
          ]
        },
        {
          "output_type": "execute_result",
          "data": {
            "text/plain": [
              "0.813"
            ]
          },
          "metadata": {},
          "execution_count": 13
        }
      ]
    }
  ]
}